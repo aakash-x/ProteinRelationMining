{
 "cells": [
  {
   "cell_type": "code",
   "execution_count": 1,
   "metadata": {},
   "outputs": [
    {
     "name": "stdout",
     "output_type": "stream",
     "text": [
      "[[1. 6. 1. ... 8. 4. 8.]\n",
      " [6. 1. 0. ... 1. 2. 8.]\n",
      " [1. 0. 1. ... 7. 6. 5.]\n",
      " ...\n",
      " [8. 1. 7. ... 1. 4. 7.]\n",
      " [4. 2. 6. ... 4. 1. 3.]\n",
      " [8. 8. 5. ... 7. 3. 1.]]\n"
     ]
    }
   ],
   "source": [
    "import numpy\n",
    "import random\n",
    "n=100\n",
    "a = numpy.zeros(shape=(n,n))\n",
    "for r in range(n):\n",
    "    for c in range(n):\n",
    "        #print(i,j)\n",
    "        if(r==c):\n",
    "            a[r][c]=1 #Diagonal values\n",
    "        elif(r<c):\n",
    "            ran=random.randrange(0,9,1)\n",
    "            a[r][c]=ran\n",
    "            a[c][r]=ran\n",
    "print(a)"
   ]
  },
  {
   "cell_type": "code",
   "execution_count": 1,
   "metadata": {},
   "outputs": [
    {
     "name": "stdout",
     "output_type": "stream",
     "text": [
      "Generating graph.csv file : Creating\n",
      "2.00 %\n",
      "4.00 %\n",
      "6.00 %\n",
      "8.00 %\n",
      "10.00 %\n",
      "12.00 %\n",
      "16.00 %\n",
      "18.00 %\n",
      "20.00 %\n",
      "22.00 %\n",
      "24.00 %\n",
      "26.00 %\n",
      "30.00 %\n",
      "32.00 %\n",
      "34.00 %\n",
      "36.00 %\n",
      "38.00 %\n",
      "40.00 %\n",
      "42.00 %\n",
      "44.00 %\n",
      "46.00 %\n",
      "48.00 %\n",
      "50.00 %\n",
      "52.00 %\n",
      "54.00 %\n",
      "60.00 %\n",
      "62.00 %\n",
      "64.00 %\n",
      "66.00 %\n",
      "68.00 %\n",
      "70.00 %\n",
      "72.00 %\n",
      "74.00 %\n",
      "76.00 %\n",
      "78.00 %\n",
      "80.00 %\n",
      "82.00 %\n",
      "84.00 %\n",
      "86.00 %\n",
      "88.00 %\n",
      "90.00 %\n",
      "92.00 %\n",
      "94.00 %\n",
      "96.00 %\n",
      "98.00 %\n",
      "100.00 %\n",
      "Completed\n"
     ]
    }
   ],
   "source": [
    "import pandas as pd\n",
    "import numpy\n",
    "import random\n",
    "################################\n",
    "n=250\n",
    "################################\n",
    "print('Generating graph.csv file : ',end ='')\n",
    "data_frame = pd.DataFrame(columns=['Source', 'Destination', 'Weight'])\n",
    "\n",
    "ones = 1\n",
    "\n",
    "print('Creating')\n",
    "\n",
    "for r in range(n):\n",
    "    if(((r+1)/n*100)%1==0):\n",
    "        print(\"{0:.2f} %\".format((r+1)/n*100))\n",
    "    for c in range(n):\n",
    "        \n",
    "        #print(i,j)\n",
    "        if(r==c):\n",
    "            df_t = pd.DataFrame([[r,c,ones]],columns=['Source', 'Destination', 'Weight'])\n",
    "            data_frame = pd.concat([data_frame, df_t], ignore_index=True)\n",
    "        elif(r>c):\n",
    "            #print(r,c,end= \" \")\n",
    "            ran=random.randrange(0,1000,50)\n",
    "            df_t = pd.DataFrame([[r,c,ran]],columns=['Source', 'Destination', 'Weight'])\n",
    "            data_frame = pd.concat([data_frame, df_t], ignore_index=True)\n",
    "    \n",
    "data_frame.to_csv('graph2.csv', mode='a',index=False,header=False)\n",
    "print('Completed')\n"
   ]
  },
  {
   "cell_type": "code",
   "execution_count": null,
   "metadata": {},
   "outputs": [],
   "source": [
    "print(\"{0:.2f} %\".format((r+1)/n*100))"
   ]
  },
  {
   "cell_type": "code",
   "execution_count": null,
   "metadata": {},
   "outputs": [],
   "source": []
  },
  {
   "cell_type": "code",
   "execution_count": null,
   "metadata": {},
   "outputs": [],
   "source": []
  }
 ],
 "metadata": {
  "kernelspec": {
   "display_name": "Python 3",
   "language": "python",
   "name": "python3"
  },
  "language_info": {
   "codemirror_mode": {
    "name": "ipython",
    "version": 3
   },
   "file_extension": ".py",
   "mimetype": "text/x-python",
   "name": "python",
   "nbconvert_exporter": "python",
   "pygments_lexer": "ipython3",
   "version": "3.6.5"
  }
 },
 "nbformat": 4,
 "nbformat_minor": 2
}
