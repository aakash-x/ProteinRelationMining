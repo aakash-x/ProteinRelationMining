{
 "cells": [
  {
   "cell_type": "code",
   "execution_count": 9,
   "metadata": {
    "scrolled": false
   },
   "outputs": [
    {
     "name": "stdout",
     "output_type": "stream",
     "text": [
      "Getting UID containing P01023 term : 1\n",
      "Downloaded = 100.0 %\n",
      "Getting UID containing P05067 term : 2\n",
      "Downloaded = 100.0 %\n",
      "Getting UID containing P85298 term : 0\n",
      "Getting UID containing ARHGAP8 term : 20\n",
      "Downloaded = 100.0 %\n",
      "Getting UID containing Q8TER5 term : 0\n",
      "Getting UID containing ARHGEF40 term : 5\n",
      "Downloaded = 100.0 %\n",
      "Getting UID containing AAMDC term : 1\n",
      "Downloaded = 100.0 %\n",
      "Done\n"
     ]
    }
   ],
   "source": [
    "from Bio import Entrez\n",
    "from Bio import Medline\n",
    "\n",
    "def function1(protein_list):\n",
    "    \"THIS FUNCTION FINDS ALL THE UID WHERE THE SPECIFIC PROTEIN IS PRESENT\"\n",
    "    for protein in protein_list:\n",
    "        MAX_COUNT = 100000\n",
    "        TERM = protein\n",
    "        print('Getting UID containing {0} term : '.format(TERM),end='')\n",
    "        Entrez.email = 'A.N.Other@example.com'\n",
    "        h = Entrez.esearch(db='pubmed', retmax=MAX_COUNT, term=TERM)\n",
    "        result = Entrez.read(h)\n",
    "        if(int(result['Count'])!=0):\n",
    "            print(result['Count'])\n",
    "            ids = result['IdList']\n",
    "            print('Downloaded =',(len(ids)/int(result['Count']))*100,'%')\n",
    "        else:\n",
    "            print(result['Count'])\n",
    "\n",
    "#THE PROGRAM STARTS FROM HERE\n",
    "protein_list = ['P01023', 'P05067','P85298', 'ARHGAP8', 'Q8TER5', 'ARHGEF40','AAMDC']\n",
    "function1(protein_list)\n",
    "print('Done')"
   ]
  },
  {
   "cell_type": "code",
   "execution_count": 24,
   "metadata": {},
   "outputs": [
    {
     "data": {
      "text/plain": [
       "Bio.Entrez.Parser.ListElement"
      ]
     },
     "execution_count": 24,
     "metadata": {},
     "output_type": "execute_result"
    }
   ],
   "source": [
    "type(ids)"
   ]
  },
  {
   "cell_type": "code",
   "execution_count": 2,
   "metadata": {
    "scrolled": true
   },
   "outputs": [
    {
     "ename": "NameError",
     "evalue": "name 'ids' is not defined",
     "output_type": "error",
     "traceback": [
      "\u001b[0;31m---------------------------------------------------------------------------\u001b[0m",
      "\u001b[0;31mNameError\u001b[0m                                 Traceback (most recent call last)",
      "\u001b[0;32m<ipython-input-2-3de0bc93d821>\u001b[0m in \u001b[0;36m<module>\u001b[0;34m()\u001b[0m\n\u001b[1;32m      1\u001b[0m \u001b[0;32mimport\u001b[0m \u001b[0mpandas\u001b[0m \u001b[0;32mas\u001b[0m \u001b[0mpd\u001b[0m\u001b[0;34m\u001b[0m\u001b[0m\n\u001b[0;32m----> 2\u001b[0;31m \u001b[0md\u001b[0m \u001b[0;34m=\u001b[0m \u001b[0;34m{\u001b[0m\u001b[0;34m'Protein'\u001b[0m\u001b[0;34m:\u001b[0m \u001b[0mids\u001b[0m\u001b[0;34m}\u001b[0m\u001b[0;34m\u001b[0m\u001b[0m\n\u001b[0m\u001b[1;32m      3\u001b[0m \u001b[0mdf\u001b[0m \u001b[0;34m=\u001b[0m \u001b[0mpd\u001b[0m\u001b[0;34m.\u001b[0m\u001b[0mDataFrame\u001b[0m\u001b[0;34m(\u001b[0m\u001b[0mdata\u001b[0m\u001b[0;34m=\u001b[0m\u001b[0md\u001b[0m\u001b[0;34m)\u001b[0m\u001b[0;34m\u001b[0m\u001b[0m\n\u001b[1;32m      4\u001b[0m \u001b[0mdf\u001b[0m\u001b[0;34m.\u001b[0m\u001b[0mto_csv\u001b[0m\u001b[0;34m(\u001b[0m\u001b[0;34m'Protein_IDs.csv'\u001b[0m\u001b[0;34m,\u001b[0m \u001b[0msep\u001b[0m\u001b[0;34m=\u001b[0m\u001b[0;34m'#'\u001b[0m\u001b[0;34m)\u001b[0m\u001b[0;34m\u001b[0m\u001b[0m\n\u001b[1;32m      5\u001b[0m \u001b[0mprint\u001b[0m\u001b[0;34m(\u001b[0m\u001b[0;34m'Done'\u001b[0m\u001b[0;34m)\u001b[0m\u001b[0;34m\u001b[0m\u001b[0m\n",
      "\u001b[0;31mNameError\u001b[0m: name 'ids' is not defined"
     ]
    }
   ],
   "source": [
    "import pandas as pd\n",
    "d = {'Protein': ids}\n",
    "df = pd.DataFrame(data=d)\n",
    "df.to_csv('Protein_IDs.csv', sep='#')\n",
    "print('Done')"
   ]
  }
 ],
 "metadata": {
  "kernelspec": {
   "display_name": "Python 3",
   "language": "python",
   "name": "python3"
  },
  "language_info": {
   "codemirror_mode": {
    "name": "ipython",
    "version": 3
   },
   "file_extension": ".py",
   "mimetype": "text/x-python",
   "name": "python",
   "nbconvert_exporter": "python",
   "pygments_lexer": "ipython3",
   "version": "3.6.5"
  }
 },
 "nbformat": 4,
 "nbformat_minor": 2
}
