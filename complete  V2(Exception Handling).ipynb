{
 "cells": [
  {
   "cell_type": "code",
   "execution_count": 20,
   "metadata": {},
   "outputs": [
    {
     "name": "stdout",
     "output_type": "stream",
     "text": [
      "Creating CSV file : CREATED\n",
      "\n",
      "0 Getting UID containing CASC3 term : - \n",
      "(1) Relation Between CASC3 AND CDK13 : None\n",
      "(2) Relation Between CASC3 AND IQCB1 : None\n",
      "(3) Relation Between CASC3 AND YARS : None\n",
      "(4) Relation Between CASC3 AND ABCD4 : None\n",
      "(5) Relation Between CASC3 AND EIF4E2 : None\n",
      "(6) Relation Between CASC3 AND GOLGA3 : None\n",
      "(7) Relation Between CASC3 AND PEX11B : None\n",
      "(8) Relation Between CASC3 AND DGKE : None\n",
      "(9) Relation Between CASC3 AND ICT1 : None\n",
      "(10) Relation Between CASC3 AND MOGS : None\n",
      "(11) Relation Between CASC3 AND SLC44A1 : None\n",
      "(12) Relation Between CASC3 AND APEH : None\n",
      "(13) Relation Between CASC3 AND EXTL2 : None\n",
      "(14) Relation Between CASC3 AND FYCO1 : None\n",
      "(15) Relation Between CASC3 AND MFSD8 : None\n",
      "(16) Relation Between CASC3 AND RNF128 : None\n",
      "(17) Relation Between CASC3 AND FNIP1 : None\n",
      "(18) Relation Between CASC3 AND HGSNAT : None\n",
      "(19) Relation Between CASC3 AND ITIH3 : None\n",
      "(20) Relation Between CASC3 AND MANBA : None\n",
      "(21) Relation Between CASC3 AND NFX1 : 1\n",
      "1.Getting Protein CASC3 Abstract of UID 15166247 : Done\n",
      "CASC3  : UPDATED\n",
      "(22) Relation Between CASC3 AND GORASP2 : None\n",
      "(23) Relation Between CASC3 AND GPRC5B : None\n",
      "(24) Relation Between CASC3 AND MAP7 : None\n",
      "(25) Relation Between CASC3 AND NAPG : None\n",
      "(26) Relation Between CASC3 AND RAB2A : None\n",
      "(27) Relation Between CASC3 AND GM2A : None\n",
      "(28) Relation Between CASC3 AND KRT6C : None\n",
      "(29) Relation Between CASC3 AND MRI1 : None\n",
      "(30) Relation Between CASC3 AND PHPT1 : None\n",
      "\n",
      "1 Getting UID containing CDK13 term : - \n",
      "(1) Relation Between CDK13 AND IQCB1 : None\n",
      "(2) Relation Between CDK13 AND YARS : None\n",
      "(3) Relation Between CDK13 AND ABCD4 : None\n",
      "(4) Relation Between CDK13 AND EIF4E2 : None\n",
      "(5) Relation Between CDK13 AND GOLGA3 : None\n",
      "(6) Relation Between CDK13 AND PEX11B : None\n",
      "(7) Relation Between CDK13 AND DGKE : None\n",
      "(8) Relation Between CDK13 AND ICT1 : None\n",
      "(9) Relation Between CDK13 AND MOGS : None\n",
      "(10) Relation Between CDK13 AND SLC44A1 : None\n",
      "(11) Relation Between CDK13 AND APEH : None\n",
      "(12) Relation Between CDK13 AND EXTL2 : None\n",
      "(13) Relation Between CDK13 AND FYCO1 : None\n",
      "(14) Relation Between CDK13 AND MFSD8 : None\n",
      "(15) Relation Between CDK13 AND RNF128 : None\n",
      "(16) Relation Between CDK13 AND FNIP1 : None\n",
      "(17) Relation Between CDK13 AND HGSNAT : None\n",
      "(18) Relation Between CDK13 AND ITIH3 : "
     ]
    },
    {
     "ename": "KeyboardInterrupt",
     "evalue": "",
     "output_type": "error",
     "traceback": [
      "\u001b[0;31m---------------------------------------------------------------------------\u001b[0m",
      "\u001b[0;31mKeyboardInterrupt\u001b[0m                         Traceback (most recent call last)",
      "\u001b[0;32m<ipython-input-20-f02d93ea7a4e>\u001b[0m in \u001b[0;36m<module>\u001b[0;34m()\u001b[0m\n\u001b[1;32m     90\u001b[0m \u001b[0mprotein_list\u001b[0m \u001b[0;34m=\u001b[0m \u001b[0ma\u001b[0m\u001b[0;34m\u001b[0m\u001b[0m\n\u001b[1;32m     91\u001b[0m \u001b[0;34m\u001b[0m\u001b[0m\n\u001b[0;32m---> 92\u001b[0;31m \u001b[0mfunction1\u001b[0m\u001b[0;34m(\u001b[0m\u001b[0mprotein_list\u001b[0m\u001b[0;34m)\u001b[0m\u001b[0;34m\u001b[0m\u001b[0m\n\u001b[0m\u001b[1;32m     93\u001b[0m \u001b[0;34m\u001b[0m\u001b[0m\n\u001b[1;32m     94\u001b[0m \u001b[0;31m#This will create Graph data\u001b[0m\u001b[0;34m\u001b[0m\u001b[0;34m\u001b[0m\u001b[0m\n",
      "\u001b[0;32m<ipython-input-20-f02d93ea7a4e>\u001b[0m in \u001b[0;36mfunction1\u001b[0;34m(protein_list)\u001b[0m\n\u001b[1;32m     35\u001b[0m             \u001b[0mEntrez\u001b[0m\u001b[0;34m.\u001b[0m\u001b[0memail\u001b[0m \u001b[0;34m=\u001b[0m \u001b[0;34m'A.N.Other@example.com'\u001b[0m\u001b[0;34m\u001b[0m\u001b[0m\n\u001b[1;32m     36\u001b[0m             \u001b[0mh\u001b[0m \u001b[0;34m=\u001b[0m \u001b[0mEntrez\u001b[0m\u001b[0;34m.\u001b[0m\u001b[0mesearch\u001b[0m\u001b[0;34m(\u001b[0m\u001b[0mdb\u001b[0m\u001b[0;34m=\u001b[0m\u001b[0;34m'pubmed'\u001b[0m\u001b[0;34m,\u001b[0m \u001b[0mretmax\u001b[0m\u001b[0;34m=\u001b[0m\u001b[0mMAX_COUNT\u001b[0m\u001b[0;34m,\u001b[0m \u001b[0mterm\u001b[0m\u001b[0;34m=\u001b[0m\u001b[0mTERM\u001b[0m\u001b[0;34m)\u001b[0m\u001b[0;34m\u001b[0m\u001b[0m\n\u001b[0;32m---> 37\u001b[0;31m             \u001b[0mresult\u001b[0m \u001b[0;34m=\u001b[0m \u001b[0mEntrez\u001b[0m\u001b[0;34m.\u001b[0m\u001b[0mread\u001b[0m\u001b[0;34m(\u001b[0m\u001b[0mh\u001b[0m\u001b[0;34m)\u001b[0m\u001b[0;34m\u001b[0m\u001b[0m\n\u001b[0m\u001b[1;32m     38\u001b[0m \u001b[0;34m\u001b[0m\u001b[0m\n\u001b[1;32m     39\u001b[0m             \u001b[0;32mif\u001b[0m\u001b[0;34m(\u001b[0m\u001b[0mint\u001b[0m\u001b[0;34m(\u001b[0m\u001b[0mresult\u001b[0m\u001b[0;34m[\u001b[0m\u001b[0;34m'Count'\u001b[0m\u001b[0;34m]\u001b[0m\u001b[0;34m)\u001b[0m\u001b[0;34m!=\u001b[0m\u001b[0;36m0\u001b[0m\u001b[0;34m)\u001b[0m\u001b[0;34m:\u001b[0m\u001b[0;34m\u001b[0m\u001b[0m\n",
      "\u001b[0;32m~/anaconda3/lib/python3.6/site-packages/Bio/Entrez/__init__.py\u001b[0m in \u001b[0;36mread\u001b[0;34m(handle, validate)\u001b[0m\n\u001b[1;32m    456\u001b[0m     \u001b[0;32mfrom\u001b[0m \u001b[0;34m.\u001b[0m\u001b[0mParser\u001b[0m \u001b[0;32mimport\u001b[0m \u001b[0mDataHandler\u001b[0m\u001b[0;34m\u001b[0m\u001b[0m\n\u001b[1;32m    457\u001b[0m     \u001b[0mhandler\u001b[0m \u001b[0;34m=\u001b[0m \u001b[0mDataHandler\u001b[0m\u001b[0;34m(\u001b[0m\u001b[0mvalidate\u001b[0m\u001b[0;34m)\u001b[0m\u001b[0;34m\u001b[0m\u001b[0m\n\u001b[0;32m--> 458\u001b[0;31m     \u001b[0mrecord\u001b[0m \u001b[0;34m=\u001b[0m \u001b[0mhandler\u001b[0m\u001b[0;34m.\u001b[0m\u001b[0mread\u001b[0m\u001b[0;34m(\u001b[0m\u001b[0mhandle\u001b[0m\u001b[0;34m)\u001b[0m\u001b[0;34m\u001b[0m\u001b[0m\n\u001b[0m\u001b[1;32m    459\u001b[0m     \u001b[0;32mreturn\u001b[0m \u001b[0mrecord\u001b[0m\u001b[0;34m\u001b[0m\u001b[0m\n\u001b[1;32m    460\u001b[0m \u001b[0;34m\u001b[0m\u001b[0m\n",
      "\u001b[0;32m~/anaconda3/lib/python3.6/site-packages/Bio/Entrez/Parser.py\u001b[0m in \u001b[0;36mread\u001b[0;34m(self, handle)\u001b[0m\n\u001b[1;32m    360\u001b[0m                 \u001b[0mhandle\u001b[0m \u001b[0;34m=\u001b[0m \u001b[0mBytesIO\u001b[0m\u001b[0;34m(\u001b[0m\u001b[0m_as_bytes\u001b[0m\u001b[0;34m(\u001b[0m\u001b[0mhandle\u001b[0m\u001b[0;34m.\u001b[0m\u001b[0mread\u001b[0m\u001b[0;34m(\u001b[0m\u001b[0;34m)\u001b[0m\u001b[0;34m)\u001b[0m\u001b[0;34m)\u001b[0m\u001b[0;34m\u001b[0m\u001b[0m\n\u001b[1;32m    361\u001b[0m         \u001b[0;32mtry\u001b[0m\u001b[0;34m:\u001b[0m\u001b[0;34m\u001b[0m\u001b[0m\n\u001b[0;32m--> 362\u001b[0;31m             \u001b[0mself\u001b[0m\u001b[0;34m.\u001b[0m\u001b[0mparser\u001b[0m\u001b[0;34m.\u001b[0m\u001b[0mParseFile\u001b[0m\u001b[0;34m(\u001b[0m\u001b[0mhandle\u001b[0m\u001b[0;34m)\u001b[0m\u001b[0;34m\u001b[0m\u001b[0m\n\u001b[0m\u001b[1;32m    363\u001b[0m         \u001b[0;32mexcept\u001b[0m \u001b[0mexpat\u001b[0m\u001b[0;34m.\u001b[0m\u001b[0mExpatError\u001b[0m \u001b[0;32mas\u001b[0m \u001b[0me\u001b[0m\u001b[0;34m:\u001b[0m\u001b[0;34m\u001b[0m\u001b[0m\n\u001b[1;32m    364\u001b[0m             \u001b[0;32mif\u001b[0m \u001b[0mself\u001b[0m\u001b[0;34m.\u001b[0m\u001b[0mparser\u001b[0m\u001b[0;34m.\u001b[0m\u001b[0mStartElementHandler\u001b[0m\u001b[0;34m:\u001b[0m\u001b[0;34m\u001b[0m\u001b[0m\n",
      "\u001b[0;32m/tmp/build/80754af9/python_1525016347942/work/Modules/pyexpat.c\u001b[0m in \u001b[0;36mXmlDecl\u001b[0;34m()\u001b[0m\n",
      "\u001b[0;32m~/anaconda3/lib/python3.6/site-packages/Bio/Entrez/Parser.py\u001b[0m in \u001b[0;36mxmlDeclHandler\u001b[0;34m(self, version, encoding, standalone)\u001b[0m\n\u001b[1;32m    431\u001b[0m                 \u001b[0;32mreturn\u001b[0m\u001b[0;34m\u001b[0m\u001b[0m\n\u001b[1;32m    432\u001b[0m \u001b[0;34m\u001b[0m\u001b[0m\n\u001b[0;32m--> 433\u001b[0;31m     \u001b[0;32mdef\u001b[0m \u001b[0mxmlDeclHandler\u001b[0m\u001b[0;34m(\u001b[0m\u001b[0mself\u001b[0m\u001b[0;34m,\u001b[0m \u001b[0mversion\u001b[0m\u001b[0;34m,\u001b[0m \u001b[0mencoding\u001b[0m\u001b[0;34m,\u001b[0m \u001b[0mstandalone\u001b[0m\u001b[0;34m)\u001b[0m\u001b[0;34m:\u001b[0m\u001b[0;34m\u001b[0m\u001b[0m\n\u001b[0m\u001b[1;32m    434\u001b[0m         \u001b[0;31m# XML declaration found; set the handlers\u001b[0m\u001b[0;34m\u001b[0m\u001b[0;34m\u001b[0m\u001b[0m\n\u001b[1;32m    435\u001b[0m         \u001b[0mself\u001b[0m\u001b[0;34m.\u001b[0m\u001b[0mparser\u001b[0m\u001b[0;34m.\u001b[0m\u001b[0mStartElementHandler\u001b[0m \u001b[0;34m=\u001b[0m \u001b[0mself\u001b[0m\u001b[0;34m.\u001b[0m\u001b[0mstartElementHandler\u001b[0m\u001b[0;34m\u001b[0m\u001b[0m\n",
      "\u001b[0;31mKeyboardInterrupt\u001b[0m: "
     ]
    }
   ],
   "source": [
    "import pandas as pd\n",
    "from Bio import Entrez\n",
    "from Bio import Medline\n",
    "from pubmed_lookup import PubMedLookup\n",
    "from pubmed_lookup import Publication\n",
    "\n",
    "df = pd.read_csv(\"prpprnjl.csv\")\n",
    "a=[]\n",
    "for i in range(399,430,1):\n",
    "    a.append(df.JUN[i])\n",
    "\n",
    "source=[]\n",
    "target=[]\n",
    "cost=[]\n",
    "    \n",
    "  \n",
    "def function1(protein_list):\n",
    "\n",
    "    \"THIS FUNCTION FINDS ALL THE UID WHERE THE SPECIFIC PROTEIN IS PRESENT\"\n",
    "    data_frame = pd.DataFrame(columns=['PROTEIN_NAME', 'UID', 'ABSTRACT'])\n",
    "    data_frame.to_csv('DATA99.csv',index=False)\n",
    "    print('CREATED')\n",
    "    \n",
    "    for i in protein_list:\n",
    "        print('\\n{0} Getting UID containing {1} term : - '.format(protein_list.index(i),i))\n",
    "        t=0\n",
    "        p=1\n",
    "        for k in range(protein_list.index(i)+1, len(protein_list)):\n",
    "            j = protein_list[k]\n",
    "            #print(i,protein_list[j])\n",
    "            MAX_COUNT = 100000\n",
    "            TERM = str(i)+ ' AND '+ str(j)\n",
    "            print('({0}) Relation Between {1} : '.format(p,TERM),end='')\n",
    "            p+=1\n",
    "            Entrez.email = 'A.N.Other@example.com'\n",
    "            h = Entrez.esearch(db='pubmed', retmax=MAX_COUNT, term=TERM)\n",
    "            result = Entrez.read(h)\n",
    "\n",
    "            if(int(result['Count'])!=0):\n",
    "                t+=1\n",
    "                print(result['Count'])\n",
    "                ids = result['IdList']\n",
    "                \n",
    "                source.append(str(i))\n",
    "                target.append(str(j))\n",
    "                cost.append(int(result['Count']))\n",
    "                \n",
    "                #print('Downloaded =',(len(ids)/int(result['Count']))*100,'%')\n",
    "                function2(ids,i,data_frame)\n",
    "\n",
    "            else:\n",
    "                print('None')\n",
    "        if(t==0):\n",
    "            df_t = pd.DataFrame([[i,'NULL','NULL']],columns=['PROTEIN_NAME', 'UID', 'ABSTRACT'])\n",
    "            data_frame = pd.concat([data_frame, df_t], ignore_index=True)\n",
    "            csv_updator(data_frame,i)\n",
    "    print('CSV SAVED')\n",
    "\n",
    "\n",
    "        \n",
    "def function2(uid_list,protein,data_frame):\n",
    "    \"This function saves the DATA per protein\"\n",
    "    point = 0\n",
    "    email = 'pranjal161@gmail.com'\n",
    "    for uid in uid_list:\n",
    "        try:\n",
    "            point +=1\n",
    "            print('{0}.Getting Protein {1} Abstract of UID {2} : '.format(point,protein,uid), end='')\n",
    "            url = 'http://www.ncbi.nlm.nih.gov/pubmed/'+uid\n",
    "            lookup = PubMedLookup(url, email)\n",
    "            publication = Publication(lookup)\n",
    "            abstract=str(repr(publication.abstract))\n",
    "            print('Done')\n",
    "            #print(abstract,'\\n')\n",
    "            df_t = pd.DataFrame([[protein,uid,abstract]],columns=['PROTEIN_NAME', 'UID', 'ABSTRACT'])\n",
    "            data_frame = pd.concat([data_frame, df_t], ignore_index=True)\n",
    "        except:\n",
    "            print(\"Unable to get Abstract of PMID \"+str(uid))\n",
    "    #Stored the data of one protein\n",
    "    csv_updator(data_frame,protein)\n",
    "    \n",
    "def csv_updator(data,protein):\n",
    "    data.to_csv('DATA99.csv', mode='a',index=False,header=False)\n",
    "    print(protein,' : UPDATED')\n",
    "##+++++++++++++++++++++++++++++++++++++++++++++++++++++++++++++++++++++++++++++++++++++++++++++++++++++++++++++++##\n",
    "#CREATING CSV FILE WHICH CONTAINS PROTEIN NAME,UID,ABSTRACT\n",
    "print('Creating CSV file : ', end='')\n",
    "\n",
    "#THE PROGRAM STARTS FROM HERE\n",
    "protein_list = a\n",
    "\n",
    "function1(protein_list)\n",
    "\n",
    "#This will create Graph data    \n",
    "if(len(source)!=0):\n",
    "    grp = {'source':source,'target':target,'cost':cost}\n",
    "    grp = pd.DataFrame(data=grp)\n",
    "    grp.to_csv('Graph3.csv')\n"
   ]
  },
  {
   "cell_type": "code",
   "execution_count": 22,
   "metadata": {},
   "outputs": [],
   "source": [
    "if(len(source)!=0):\n",
    "    grp = {'source':source,'target':target,'cost':cost}\n",
    "    grp = pd.DataFrame(data=grp)\n",
    "    df.to_csv('Graph3.csv')\n"
   ]
  },
  {
   "cell_type": "code",
   "execution_count": 5,
   "metadata": {},
   "outputs": [
    {
     "data": {
      "text/plain": [
       "399"
      ]
     },
     "execution_count": 5,
     "metadata": {},
     "output_type": "execute_result"
    }
   ],
   "source": [
    "import pandas as pd\n",
    "from Bio import Entrez\n",
    "from Bio import Medline\n",
    "from pubmed_lookup import PubMedLookup\n",
    "from pubmed_lookup import Publication\n",
    "\n",
    "df = pd.read_csv(\"prpprnjl.csv\")\n",
    "a=[]\n",
    "for i in range(len(df)):\n",
    "    a.append(df.JUN[i])\n",
    "a.index('CASC3')"
   ]
  },
  {
   "cell_type": "code",
   "execution_count": 21,
   "metadata": {},
   "outputs": [
    {
     "data": {
      "text/plain": [
       "['CASC3']"
      ]
     },
     "execution_count": 21,
     "metadata": {},
     "output_type": "execute_result"
    }
   ],
   "source": [
    "source"
   ]
  },
  {
   "cell_type": "code",
   "execution_count": 15,
   "metadata": {},
   "outputs": [
    {
     "data": {
      "text/plain": [
       "['NFX1']"
      ]
     },
     "execution_count": 15,
     "metadata": {},
     "output_type": "execute_result"
    }
   ],
   "source": [
    "target"
   ]
  },
  {
   "cell_type": "code",
   "execution_count": 16,
   "metadata": {},
   "outputs": [
    {
     "data": {
      "text/plain": [
       "[1]"
      ]
     },
     "execution_count": 16,
     "metadata": {},
     "output_type": "execute_result"
    }
   ],
   "source": [
    "cost"
   ]
  }
 ],
 "metadata": {
  "kernelspec": {
   "display_name": "Python 3",
   "language": "python",
   "name": "python3"
  },
  "language_info": {
   "codemirror_mode": {
    "name": "ipython",
    "version": 3
   },
   "file_extension": ".py",
   "mimetype": "text/x-python",
   "name": "python",
   "nbconvert_exporter": "python",
   "pygments_lexer": "ipython3",
   "version": "3.6.5"
  }
 },
 "nbformat": 4,
 "nbformat_minor": 2
}
