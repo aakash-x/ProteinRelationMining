{
 "cells": [
  {
   "cell_type": "code",
   "execution_count": null,
   "metadata": {},
   "outputs": [
    {
     "name": "stdout",
     "output_type": "stream",
     "text": [
      "Creating CSV file : CREATED\n",
      "Getting UID containing A2M term : 454\n",
      "Downloaded = 100.0 %\n",
      "Getting Protein A2M Abstract of UID 30355907 : Unable to get Abstract of PMID 30355907\n",
      "Getting Protein A2M Abstract of UID 30340979 : Done\n",
      "Unable to get Abstract of PMID 30340979\n",
      "Getting Protein A2M Abstract of UID 30104696 : Done\n",
      "Unable to get Abstract of PMID 30104696\n",
      "Getting Protein A2M Abstract of UID 30011385 : Done\n",
      "Unable to get Abstract of PMID 30011385\n",
      "Getting Protein A2M Abstract of UID 29911139 : Unable to get Abstract of PMID 29911139\n",
      "Getting Protein A2M Abstract of UID 29892530 : Done\n",
      "Unable to get Abstract of PMID 29892530\n",
      "Getting Protein A2M Abstract of UID 29867155 : Done\n",
      "Unable to get Abstract of PMID 29867155\n",
      "Getting Protein A2M Abstract of UID 29796634 : "
     ]
    }
   ],
   "source": [
    "import pandas as pd\n",
    "from Bio import Entrez\n",
    "from Bio import Medline\n",
    "from pubmed_lookup import PubMedLookup\n",
    "from pubmed_lookup import Publication\n",
    "\n",
    "def function1(protein_list):\n",
    "    \"THIS FUNCTION FINDS ALL THE UID WHERE THE SPECIFIC PROTEIN IS PRESENT\"\n",
    "    data_frame = pd.DataFrame(columns=['PROTEIN_NAME', 'UID', 'ABSTRACT'])\n",
    "    data_frame.to_csv('DATA1.csv',index=False)\n",
    "    print('CREATED')\n",
    "    \n",
    "    for protein in protein_list:\n",
    "        MAX_COUNT = 1\n",
    "        TERM = protein\n",
    "       #print('Getting UID containing {0} term : '.format(TERM),end='')\n",
    "        Entrez.email = 'A.N.Other@example.com'\n",
    "        h = Entrez.esearch(db='pubmed', retmax=MAX_COUNT, term=TERM)\n",
    "        result = Entrez.read(h)\n",
    "        #print(result)\n",
    "        #print(result['Count'])\n",
    "        MAX_COUNT = result['Count']\n",
    "        print('Getting UID containing {0} term : '.format(TERM),end='')\n",
    "        Entrez.email = 'A.N.Other@example.com'\n",
    "        h = Entrez.esearch(db='pubmed', retmax=MAX_COUNT, term=TERM)\n",
    "        result = Entrez.read(h)\n",
    "        if(int(result['Count'])!=0):\n",
    "            print(result['Count'])\n",
    "            ids = result['IdList']\n",
    "            print('Downloaded =',(len(ids)/int(result['Count']))*100,'%')\n",
    "            function2(ids,protein,data_frame)\n",
    "        else:\n",
    "            print(result['Count'])\n",
    "            df_t = pd.DataFrame([[protein,'0','0']],columns=['PROTEIN_NAME', 'UID', 'ABSTRACT'])\n",
    "            data_frame = pd.concat([data_frame, df_t], ignore_index=True)\n",
    "            csv_updator(data_frame,protein)\n",
    "    print('CSV SAVED')\n",
    "Failed=[]       \n",
    "def function2(uid_list,protein,data_frame):\n",
    "    \"This function saves the DATA per protein\"\n",
    "    email = 'pranjal161@gmail.com'\n",
    "    for uid in uid_list:\n",
    "        try:\n",
    "            print('Getting Protein {0} Abstract of UID {1} : '.format(protein,uid), end='')\n",
    "            url = 'http://www.ncbi.nlm.nih.gov/pubmed/'+uid\n",
    "            lookup = PubMedLookup(url, email)\n",
    "            publication = Publication(lookup)\n",
    "            abstract=str(repr(publication.abstract))\n",
    "            print('Done')\n",
    "            #print(abstract,'\\n')\n",
    "            df_t = pd.DataFrame([[protein,uid,abstract]],columns=['PROTEIN_NAME', 'UID', 'ABSTRACT'])\n",
    "            data_frame = pd.concat([data_frame, df_t], ignore_index=True)\n",
    "    #Stored the data of one protein\n",
    "        except:\n",
    "            print(\"Unable to get Abstract of PMID \"+str(uid))\n",
    "            data_frame='null'\n",
    "            Failed.append(uid)\n",
    "    \n",
    "    csv_updator(data_frame,protein)\n",
    "    \n",
    "def csv_updator(data,protein):\n",
    "    data.to_csv('DATA5.sv', mode='a',index=False,header=False)\n",
    "    print(protein,' : UPDATED')\n",
    "##+++++++++++++++++++++++++++++++++++++++++++++++++++++++++++++++++++++++++++++++++++++++++++++++++++++++++++++++##\n",
    "#CREATING CSV FILE WHICH CONTAINS PROTEIN NAME,UID,ABSTRACT\n",
    "print('Creating CSV file : ', end='')\n",
    "\n",
    "#THE PROGRAM STARTS FROM HERE\n",
    "protein_list = ['A2M', 'ABCA3', 'ABCC10', 'ACPP', 'ACTR3', 'ADAM9', 'ADSL', 'AKT1S1', 'AKR1A1', 'AHSG', 'AGTRAP', 'ADSS', 'BCAR1', 'BROX', 'C1GALT1', 'ATP6V0C', 'CASC3', 'CD3EAP']\n",
    "function1(protein_list)\n",
    "\n",
    "print(\"Failed Ids\")\n",
    "print(Failed)"
   ]
  },
  {
   "cell_type": "code",
   "execution_count": null,
   "metadata": {},
   "outputs": [],
   "source": []
  },
  {
   "cell_type": "code",
   "execution_count": 15,
   "metadata": {},
   "outputs": [
    {
     "data": {
      "text/plain": [
       "840"
      ]
     },
     "execution_count": 15,
     "metadata": {},
     "output_type": "execute_result"
    }
   ],
   "source": [
    "protein_list = ['P01023', 'Q9H7C9', 'Q99758', 'Q9NP78', 'Q5T3U5', 'O14678', 'Q5VST6', 'P11117', 'P15309', 'P61158', 'Q9H9F9', 'O14672', 'Q13443', 'Q9UHI8', 'P30566', 'P30520', 'P20933', 'Q6RW13', 'P02765', 'P14550', 'Q96B36', 'Q9UNK9', 'Q6AI12', 'Q6NXT1', 'O00203', 'Q9Y2T2', 'Q92572', 'Q2VPB7', 'Q9H0R1', 'Q9NUS5', 'O43299', 'P13798', 'Q96BI3', 'Q06481', 'P04114', 'P05067', 'Q9UKG1', 'P85298', 'Q8TER5', 'Q3SXY8', 'Q9NXU5', 'Q96BM9', 'Q9NVJ2', 'Q8N2F6', 'P15289', 'P15848', 'Q6UWY0', 'Q9HBK9', 'Q13510', 'O95671', 'P08243', 'Q5SQI0', 'O95260', 'P98196', 'Q9Y2G3', 'Q8NB49', 'Q9NQ11', 'P98194', 'Q15904', 'Q93050', 'Q9Y487', 'P27449', 'P61421', 'P38606', 'P21281', 'P21283', 'Q9Y5K8', 'P36543', 'Q16864', 'O75348', 'Q9UI12', 'P35670', 'Q9Y2Q0', 'O75110', 'Q6UW56', 'O75882', 'P54252', 'Q96L58', 'O94766', 'P15291', 'Q9UBV7', 'O43505', 'O14867', 'P56945', 'Q14457', 'Q13867', 'P78537', 'Q6QNY1', 'Q9UL45', 'Q9H8M2', 'O95415', 'Q5VW32', 'Q06187', 'Q96B45', 'Q9H8K7', 'Q6ZRI6', 'Q96GS4', 'Q96DM3', 'Q9NS00', 'Q9NWV4', 'Q8NDD1', 'Q8IYL3', 'Q9H6R7', 'Q8NDZ4', 'P0C0L4', 'P0C0L5', ';', 'Q6NTE8', 'Q9H6K1', 'Q5T280', 'Q96LT7', 'Q5VZI3', 'Q13137', 'Q9NZT1', 'Q96RR4', 'Q8WVQ1', 'O15234', 'Q6P4E1', 'P35520', 'Q16773', 'Q9P031', 'Q9BSQ5', 'P86790', 'P86791', ';', 'Q9Y5K6', 'O15446', 'Q08722', 'P08174', 'P08962', 'Q14004', 'P49454', 'Q9P2M7', 'Q9P2E5', 'Q8NCH0', 'Q86X95', 'P51790', 'P51795', 'P51798', 'Q96NY7', 'Q9NZA1', 'Q13286', 'O75503', 'Q9BQ75', 'P02462', 'P08572', 'Q86X83', 'P57737', 'O75976', 'P16870', 'Q9Y646', 'Q9H3G5', 'O75629', 'P46109', 'Q6UUV9', 'Q53ET0', 'Q6UUV7', 'Q9Y6M4', 'Q01459', 'P17812', 'P10619', 'P07858', 'P53634', 'P07339', 'P09668', 'P07711', 'P25774', 'O60911', 'Q9UBR2', 'Q13948', 'Q9NXE8', 'Q2TBE0', 'P61073', 'Q8NCG7', 'Q9NX09', 'Q9UJV9', 'Q9Y2R4', 'Q8NHQ9', 'P52429', 'P00374', 'Q9H5Z1', 'Q9UNQ2', 'Q96SL1', 'Q9NVR5', 'O75190', 'Q5F1R6', 'Q9H3Z4', 'O00115', 'O43598', 'Q9NY33', 'Q6UX65', 'Q02487', 'Q02413', 'Q66K89', 'P42892', 'P00533', 'O60573', 'Q13541', 'Q9NRA8', 'P63241', 'P06733', 'P09104', 'Q9Y6X5', 'P29323', 'O95208', 'Q2NKX8', 'Q96RQ1', 'Q9Y282', 'Q93063', 'Q9UBQ6', 'O43909', 'Q9H8W3', 'O75063', 'P98173', 'Q92520', 'Q5VUD6', 'Q96KN1', 'P62861', 'P14324', 'Q5T1M5', 'Q9Y680', 'Q9H9S5', 'Q8NFG4', 'Q5D862', 'O75369', 'O75955', 'Q14254', 'Q8TF40', 'Q9P278', 'Q08050', 'Q14331', 'Q6ZNA5', 'P02794', 'P02792', 'P04066', 'Q9BTY2', 'Q9BYC5', 'Q9BQS8', 'P06241', 'O75084', 'P10253', 'Q9H0R8', 'P60520', 'P34059', 'Q10472', 'Q8NCW6', 'Q10471', 'Q86SF2', 'P17677', 'P04406', 'P41250', 'P04062', 'Q9NXN4', 'P38435', 'Q92820', 'Q9UJ14', 'P17302', 'P36383', 'P06280', 'P16278', 'O94923', 'Q92896', 'Q8WWB7', 'Q04760', 'P17900', 'Q9P2T1', 'P63096', 'P04899', 'P08754', 'P62873', 'P62879', 'P36915', 'Q9NVN8', 'P15586', 'Q08379', 'Q08378', 'Q13439', 'Q8TBA6', 'Q7Z5G4', 'O00461', 'Q8NBJ4', 'Q9BQQ3', 'Q9H8Y8', 'P17174', 'Q9BRR8', 'Q5T3I0', 'Q9Y625', 'P51674', 'Q5VW38', 'Q96N19', 'Q5JY77', 'Q9NZH0', 'Q9NQ84', 'Q13322', 'P28799', 'P48637', 'P09211', 'O43708', 'Q9BX10', 'P08236', 'Q9H6D7', 'Q9ULI3', 'O95714', 'P06865', 'P07686', 'O14964', 'Q68CP4', 'P49773', 'Q8IUE6', 'P01892', 'P01889', 'P28067', 'P28068', 'P20036', 'P04440', 'Q86YM7', 'Q9NSB8', 'Q9NSC5', 'P17482', 'P00492', 'Q9Y251', 'P01112', 'Q7LGA3', 'Q58FG0', 'P0DMV8', 'P0DMV9', ';', 'P17066', 'Q9P2D0', 'Q05084', 'Q14197', 'P13284', 'Q01629', 'P15260', 'P40189', 'P20839', 'P12268', 'Q15051', 'P51617', 'Q8WZA9', 'Q8TB96', 'Q06033', 'Q9Y287', 'Q9NQX7', 'O76095', 'P05412', 'Q9BVA0', 'Q8NC54', 'Q12768', 'O15091', 'Q6ICG6', 'Q2M389', 'Q96AT1', 'A2RU67', 'Q9HCM3', 'Q8IYS2', 'Q15058', 'Q96L93', 'Q12756', 'O60333', 'Q02241', 'Q9P2N7', 'P04264', 'P13645', 'P02533', 'P08779', 'P35908', 'P13647', 'P02538', 'P48668', ';', 'P35527', 'Q9BQD3', 'P11047', 'P11279', 'P13473', 'Q9UQV4', 'Q6IAA8', 'Q9Y2Q5', 'Q9UHA4', 'Q0VGL1', 'O43504', 'Q15012', 'A4D1U4', 'P07195', 'P01130', 'Q08380', 'Q99538', 'P38571', 'Q99732', 'Q9NUN5', 'Q68DH5', 'Q8IWU2', 'Q9UIQ6', 'Q969J3', 'Q96JA1', 'O75581', 'P02788', 'P20645', 'P33908', 'O60476', 'Q9UKM7', 'Q16706', 'O00754', 'O00462', 'Q5SRI9', 'A6NCE7', 'Q9GZQ8', ';', 'O14733', 'Q14244', 'Q8IWC1', 'Q49MG5', 'P31153', 'P56270', 'Q68D91', 'Q9BTE3', 'Q8NEM0', 'Q96FH0', 'Q08431', 'Q9H3U5', 'Q6NUT3', 'Q8NHS3', 'P26572', 'Q10469', 'O60291', 'Q8N3F8', 'P14174', 'Q9NXC5', 'Q8WV92', 'O75030', 'Q9BVC4', 'Q9BU76', 'Q13724', 'Q7L1V2', 'Q8NHP6', 'Q6WCQ1', 'O95297', 'Q9BV20', 'Q86TS9', 'Q13126', 'P42345', 'P58546', 'Q9UM54', 'Q9BXJ9', 'P17050', 'P54802', 'Q9UK23', 'P54920', 'Q99747', 'A2RRP1', 'Q14596', 'Q9NZQ3', 'Q92542', 'Q9NV92', 'Q92597', 'P28331', 'Q92859', 'Q7Z628', 'Q99519', 'O00221', 'Q12986', 'Q5JS37', 'P14543', 'Q9BYG3', 'Q9Y2I1', 'Q8N5F7', 'P78316', 'O15118', 'P61916', 'P46459', 'Q96P11', 'Q02818', 'P80303', 'Q8WVJ2', 'P36639', 'Q9UHK0', 'P61970', 'Q15615', 'P22059', 'Q9BXB4', 'Q9BXW6', 'Q96SU4', 'Q86WC4', 'Q99571', 'Q9H361', 'Q9UKS6', 'P19021', 'Q9UGN5', 'Q16822', 'Q9UHG3', 'P49585', 'Q53EL6', 'Q8N8D1', 'Q5VU43', 'P30086', 'O00541', 'O43933', 'O96011', 'Q96HS1', 'Q8IWS0', 'Q9UPP1', 'Q9NRX4', 'Q9BTU6', 'Q8TCG2', 'Q8NEB9', 'Q96BK5', 'O00625', 'P48739', 'P78337', 'Q8NCC3', 'Q13093', 'Q8NHP8', 'Q13393', 'Q8IV08', 'Q9HB20', 'Q8IWE5', 'O60568', 'O15162', 'Q8IYS1', 'O00592', 'Q9NZ53', 'O95602', 'Q9H9Y6', 'P61218', 'Q15181', 'Q06203', 'Q9HAB8', 'O75170', 'P50897', 'Q9UMR5', 'O43663', 'P42785', 'P10644', 'Q86WR7', 'P11908', 'P07602', 'Q9Y617', 'P49768', 'P49810', 'Q9P2B2', 'Q99952', 'Q12913', 'Q13332', 'P53801', 'Q8TB72', 'P20742', 'Q9NXS2', 'Q15274', 'Q6ZRP7', 'Q7L804', 'Q9BXF6', 'Q6IQ22', 'P61106', 'P62820', 'Q9H0U4', 'Q9UL25', 'Q9UL26', 'P51159', 'P61019', 'Q8WUD1', 'Q9H082', 'P0DI83', 'Q14964', 'Q96DA2', 'P20338', 'P61020', 'P20340', 'P51149', 'P51151', 'Q9NP90', 'Q9H0H5', 'P54725', 'P11233', 'P43487', 'P10114', 'P61225', 'Q9Y388', 'Q9HBH5', 'O94761', 'Q9H6H4', 'P62745', 'O60930', 'O00584', 'Q8TEB7', 'O43567', 'Q8NC42', 'Q9H6Y7', 'O60942', 'Q8TA86', 'P62829', 'Q8NHW5', 'P62280', 'P62244', 'P08708', 'Q86WX3', 'P62266', 'P62854', 'P42677', 'Q71UM5', 'Q8N122', 'Q7L523', 'Q9HB90', 'Q9NQL2', 'P10301', 'P23921', 'P31350', 'Q96EU6', 'Q9NTJ5', 'O14828', 'Q8WTV0', 'Q14108', 'Q9HB40', 'O00560', 'Q9BRK5', 'Q9NRP4', 'Q96EE3', 'Q9BVL4', 'Q9NRX5', 'P35237', 'P07093', 'P08697', 'P0DME0', 'Q587I9', 'P51688', 'Q6UWI4', 'P34896', 'Q9HAT2', 'Q8NBJ9', 'Q14493', 'P49281', 'Q9UP95', 'Q9BXP2', 'Q8N697', 'Q9NRA2', 'Q6NT16', 'Q8WUM9', 'Q14542', 'Q9BZD2', 'P11166', 'Q96QE2', 'P11169', 'Q9UGQ3', 'Q9NY64', 'Q8TAD4', 'Q6NXT4', 'Q8NEW0', 'O15431', 'P78382', 'Q8TB61', 'Q96K37', 'Q7Z2H8', 'Q8NCC5', 'Q8NBW4', 'Q9NY26', 'Q9BRY0', 'Q9C0K1', 'Q8WWI5', 'Q96NT5', 'Q7Z3Q1', 'Q9HAB3', 'O94813', 'Q14683', 'Q8TEV9', 'Q96Q15', 'B2RUZ4', 'Q9H4F8', 'P17405', 'Q92484', 'Q92485', 'O00161', 'O95295', 'Q9Y5W9', 'Q9NRS6', 'Q96RF0', 'P00441', 'Q92673', 'P48431', 'P0CG40', 'O75391', 'Q96JI7', 'Q9NZD8', 'Q9H2V7', 'Q8TCT8', 'Q5W111', 'Q13501', 'Q9HD15', 'Q8IYB3', 'Q14849', 'O95772', 'Q8N1F8', 'P27105', 'Q86Y82', 'O14662', 'Q13277', 'Q13190', 'O43752', 'O15400', 'Q9UNK0', 'Q15833', 'Q7L0J3', 'O43759', 'O43760', 'P08247', 'Q16563', 'P21579', 'Q5T011', 'Q7Z7C8', 'Q92609', 'Q9BTW9', 'Q13428', 'Q9UGI8', 'P19532', 'P19484', 'P36897', 'O43493', 'Q9Y5J6', 'Q9BX73', 'Q9NS93', 'O15321', 'Q9HD45', 'Q92544', 'Q96EY4', 'Q13445', 'P49755', 'Q9Y3Q3', 'Q7Z7H5', 'Q9Y3B3', 'Q8NE00', 'Q9NUM4', 'Q9BVX2', 'Q12893', 'Q9BXJ8', 'Q8N131', 'Q9P0S9', 'Q9HC07', 'Q9BSA9', 'Q7Z7N9', 'Q9NVA4', 'Q8IY95', 'Q9H813', 'Q9H0R3', 'Q8N2U0', 'Q9NV96', 'Q8N4L2', 'Q86T03', 'Q9BXS4', 'O94886', 'Q8NBN3', 'Q9P0T7', 'Q9NQ34', 'P82094', 'O14763', 'Q9H0E2', 'O60784', 'Q6ZVM7', 'Q13641', 'Q8NHX9', 'O14773', 'Q8WV44', 'Q6PJ69', 'Q2Q1W2', 'O75157', 'O95857', 'O60637', 'Q12999', 'O43657', 'P41732', 'Q49AM3', 'Q14679', 'Q9C0H2', 'Q9P2K2', 'Q16881', 'P04818', 'Q9Y5Z9', 'Q8WUN7', 'Q16739', 'Q53HI1', 'Q8IZJ1', 'Q9H1C4', 'Q9BZI7', 'Q9Y5J1', 'Q9P2Y5', 'Q8NBZ7', 'Q08AM6', 'Q15836', 'O75379', 'P51809', 'Q8TAA9', 'P21796', 'O95497', 'Q9H270', 'Q9H269', 'Q9P253', 'O75436', 'Q4G0F5', 'Q9UBQ0', 'Q96AX1', 'Q96QK1', 'Q96JC1', 'P49754', 'Q96AJ9', 'Q9UEU0', 'P04004', 'Q96I51', 'Q8IWB7', 'Q9BZH6', 'Q96S15', 'Q9HAD4', 'Q5MNZ6', 'Q6PJI9', 'Q9NNW5', 'Q562E7', 'A4D1P6', 'Q9NQW7', 'Q9HAV4', 'Q9H1B5', 'P54577', 'Q9Y2Z4', 'Q9GZM5', 'Q9BSR8', 'O15062', 'Q15916', 'Q9NYG2', 'Q96JP5', 'O95159', 'Q9HBF4', 'Q9BQ24', 'Q68DK2', 'Q86YA3', 'Q15776', 'Q15072', 'Q9Y2X9', 'Q9UJN7', 'Q8NEK5', 'Q6NUN9', 'Q9H5H4', 'Q9P1U0', 'Q16670']\n",
    "len(protein_list)"
   ]
  },
  {
   "cell_type": "code",
   "execution_count": 17,
   "metadata": {},
   "outputs": [
    {
     "data": {
      "text/plain": [
       "106"
      ]
     },
     "execution_count": 17,
     "metadata": {},
     "output_type": "execute_result"
    }
   ],
   "source": [
    "protein_list.index(';')"
   ]
  }
 ],
 "metadata": {
  "kernelspec": {
   "display_name": "Python 3",
   "language": "python",
   "name": "python3"
  },
  "language_info": {
   "codemirror_mode": {
    "name": "ipython",
    "version": 3
   },
   "file_extension": ".py",
   "mimetype": "text/x-python",
   "name": "python",
   "nbconvert_exporter": "python",
   "pygments_lexer": "ipython3",
   "version": "3.6.5"
  }
 },
 "nbformat": 4,
 "nbformat_minor": 2
}
